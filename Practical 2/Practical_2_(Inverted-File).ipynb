{
 "cells": [
  {
   "cell_type": "code",
   "execution_count": 1,
   "id": "5da32a96-a6db-4524-ad7a-f5009b34ce4e",
   "metadata": {},
   "outputs": [],
   "source": [
    "import nltk\n",
    "import string"
   ]
  },
  {
   "cell_type": "code",
   "execution_count": 2,
   "id": "98af2f1a-1d23-49c7-a53d-e3c045e44d11",
   "metadata": {},
   "outputs": [],
   "source": [
    "stopwords = nltk.corpus.stopwords.words(\"english\")"
   ]
  },
  {
   "cell_type": "code",
   "execution_count": 3,
   "id": "77d6f2a0-b346-4e60-953f-053648425a2f",
   "metadata": {},
   "outputs": [
    {
     "data": {
      "text/plain": [
       "['i', 'me', 'my', 'myself', 'we', 'our', 'ours', 'ourselves', 'you', \"you're\"]"
      ]
     },
     "execution_count": 3,
     "metadata": {},
     "output_type": "execute_result"
    }
   ],
   "source": [
    "stopwords[:10]"
   ]
  },
  {
   "cell_type": "code",
   "execution_count": 4,
   "id": "fa18a203-5113-4d21-b0a0-e92caa2e1a28",
   "metadata": {},
   "outputs": [
    {
     "data": {
      "text/plain": [
       "'!\"#$%&\\'()*+,-./:;<=>?@[\\\\]^_`{|}~'"
      ]
     },
     "execution_count": 4,
     "metadata": {},
     "output_type": "execute_result"
    }
   ],
   "source": [
    "punct = string.punctuation\n",
    "punct"
   ]
  },
  {
   "cell_type": "code",
   "execution_count": 9,
   "id": "7df9be5c-9251-4c4a-8713-56663ebb608e",
   "metadata": {},
   "outputs": [],
   "source": [
    "from num2words import num2words"
   ]
  },
  {
   "cell_type": "code",
   "execution_count": 26,
   "id": "637a080a-1063-4dfa-9697-d8bbbefd88e7",
   "metadata": {},
   "outputs": [],
   "source": [
    "def pre_process(text):\n",
    "    remove_punct = \"\".join([word.lower() for word in text if word not in punct])\n",
    "    tokenize = nltk.tokenize.word_tokenize(remove_punct)\n",
    "    #remove_stopwords = [word for word in tokenize if word not in stopwords]\n",
    "    words = [num2words(token) if token.isnumeric() else token for token in tokenize]\n",
    "    words\n",
    "    return tokenize\n"
   ]
  },
  {
   "cell_type": "code",
   "execution_count": 28,
   "id": "5b09475d-4e63-4158-9017-ddc5e249c9ba",
   "metadata": {},
   "outputs": [],
   "source": [
    "Doc1 = \"The quick brown fox jumped over the lazy dog.\"\n",
    "Doc2 = \"The lazy dog slept in to the sum.\"\n",
    "Doc3 = \"He was so preoccupied with whether or not he could that he failed to stop to consider if he should.\"\n",
    "Doc4 = \"You'll see the rainbow bridge after it rains cats and dogs.\""
   ]
  },
  {
   "cell_type": "code",
   "execution_count": 30,
   "id": "3cf813a7-85cd-4811-beaf-7ec6bcc25fdb",
   "metadata": {},
   "outputs": [],
   "source": [
    "processed1 = pre_process(Doc1)\n",
    "processed2 = pre_process(Doc2)\n",
    "processed3 = pre_process(Doc3)\n",
    "processed4 = pre_process(Doc4)"
   ]
  },
  {
   "cell_type": "code",
   "execution_count": 32,
   "id": "6f181a7f-198e-43f8-a288-a45895284960",
   "metadata": {},
   "outputs": [
    {
     "data": {
      "text/plain": [
       "['the', 'quick', 'brown', 'fox', 'jumped', 'over', 'the', 'lazy', 'dog']"
      ]
     },
     "execution_count": 32,
     "metadata": {},
     "output_type": "execute_result"
    }
   ],
   "source": [
    "processed1"
   ]
  },
  {
   "cell_type": "code",
   "execution_count": 34,
   "id": "ed2952a5-51bd-42b7-bace-3dbe5d9412af",
   "metadata": {},
   "outputs": [
    {
     "data": {
      "text/plain": [
       "['the', 'lazy', 'dog', 'slept', 'in', 'to', 'the', 'sum']"
      ]
     },
     "execution_count": 34,
     "metadata": {},
     "output_type": "execute_result"
    }
   ],
   "source": [
    "processed2"
   ]
  },
  {
   "cell_type": "code",
   "execution_count": 36,
   "id": "ff2d79e3-ddcf-4509-867d-15749b736b3b",
   "metadata": {},
   "outputs": [
    {
     "data": {
      "text/plain": [
       "['he',\n",
       " 'was',\n",
       " 'so',\n",
       " 'preoccupied',\n",
       " 'with',\n",
       " 'whether',\n",
       " 'or',\n",
       " 'not',\n",
       " 'he',\n",
       " 'could',\n",
       " 'that',\n",
       " 'he',\n",
       " 'failed',\n",
       " 'to',\n",
       " 'stop',\n",
       " 'to',\n",
       " 'consider',\n",
       " 'if',\n",
       " 'he',\n",
       " 'should']"
      ]
     },
     "execution_count": 36,
     "metadata": {},
     "output_type": "execute_result"
    }
   ],
   "source": [
    "processed3"
   ]
  },
  {
   "cell_type": "code",
   "execution_count": 37,
   "id": "9eb14a9f-5470-421a-9fa5-041904d1ad55",
   "metadata": {},
   "outputs": [
    {
     "data": {
      "text/plain": [
       "['youll',\n",
       " 'see',\n",
       " 'the',\n",
       " 'rainbow',\n",
       " 'bridge',\n",
       " 'after',\n",
       " 'it',\n",
       " 'rains',\n",
       " 'cats',\n",
       " 'and',\n",
       " 'dogs']"
      ]
     },
     "execution_count": 37,
     "metadata": {},
     "output_type": "execute_result"
    }
   ],
   "source": [
    "processed4"
   ]
  },
  {
   "cell_type": "code",
   "execution_count": 38,
   "id": "9d1b6a06-6f71-4845-a63f-aabf3e837612",
   "metadata": {},
   "outputs": [],
   "source": [
    "vocalbulary = list(set(processed1 + processed2 + processed3 + processed4))"
   ]
  },
  {
   "cell_type": "code",
   "execution_count": 40,
   "id": "448bf6e9-6178-4424-874c-f781e6bdecdf",
   "metadata": {},
   "outputs": [
    {
     "data": {
      "text/plain": [
       "['was',\n",
       " 'slept',\n",
       " 'to',\n",
       " 'so',\n",
       " 'brown',\n",
       " 'that',\n",
       " 'he',\n",
       " 'lazy',\n",
       " 'jumped',\n",
       " 'after',\n",
       " 'over',\n",
       " 'or',\n",
       " 'dog',\n",
       " 'and',\n",
       " 'the',\n",
       " 'failed',\n",
       " 'see',\n",
       " 'in',\n",
       " 'should',\n",
       " 'cats',\n",
       " 'whether',\n",
       " 'stop',\n",
       " 'youll',\n",
       " 'fox',\n",
       " 'if',\n",
       " 'with',\n",
       " 'consider',\n",
       " 'rainbow',\n",
       " 'it',\n",
       " 'sum',\n",
       " 'rains',\n",
       " 'not',\n",
       " 'bridge',\n",
       " 'dogs',\n",
       " 'preoccupied',\n",
       " 'quick',\n",
       " 'could']"
      ]
     },
     "execution_count": 40,
     "metadata": {},
     "output_type": "execute_result"
    }
   ],
   "source": [
    "vocalbulary"
   ]
  },
  {
   "cell_type": "code",
   "execution_count": null,
   "id": "93d2475e-c140-48dc-8f00-67ecd6903a1a",
   "metadata": {},
   "outputs": [],
   "source": []
  },
  {
   "cell_type": "code",
   "execution_count": 42,
   "id": "b4229981-6a1d-4340-ad9b-20200fd0b1a7",
   "metadata": {},
   "outputs": [
    {
     "name": "stdin",
     "output_type": "stream",
     "text": [
      "Enter the query:  I went out with my lazy dog and cat to see the quick rainbow on bridge\n"
     ]
    },
    {
     "name": "stdout",
     "output_type": "stream",
     "text": [
      "I -> \n",
      "and -> Doc4\n",
      "bridge -> Doc4\n",
      "cat -> \n",
      "dog -> Doc1, Doc2\n",
      "lazy -> Doc1, Doc2\n",
      "my -> \n",
      "on -> \n",
      "out -> \n",
      "quick -> Doc1\n",
      "rainbow -> Doc4\n",
      "see -> Doc4\n",
      "the -> Doc1, Doc2, Doc4\n",
      "to -> Doc2, Doc3\n",
      "went -> \n",
      "with -> Doc3\n"
     ]
    }
   ],
   "source": [
    "#Function for indexting the terms from files\n",
    "Query = input(\"Enter the query: \")\n",
    "terms = Query.split()\n",
    "voc = sorted(terms, reverse=False)\n",
    "\n",
    "index = {}\n",
    "\n",
    "for term in voc:\n",
    "    document = []\n",
    "    if term in processed1:\n",
    "        document.append(\"Doc1\")\n",
    "    if term in processed2:\n",
    "        document.append(\"Doc2\")\n",
    "    if term in processed3:\n",
    "        document.append(\"Doc3\")\n",
    "    if term in processed4:\n",
    "        document.append(\"Doc4\")\n",
    "    index[term] = document\n",
    "    \n",
    "for term, document in index.items():\n",
    "    print(term, \"->\", \", \".join(document))"
   ]
  },
  {
   "cell_type": "code",
   "execution_count": null,
   "id": "b3ee673a-473b-4e7b-9bdb-c1332648e3e5",
   "metadata": {},
   "outputs": [],
   "source": []
  },
  {
   "cell_type": "code",
   "execution_count": null,
   "id": "298ba309-0669-4536-9967-bf3bb0f64be9",
   "metadata": {},
   "outputs": [],
   "source": []
  },
  {
   "cell_type": "code",
   "execution_count": null,
   "id": "ad9f8c6f-6a3e-48ee-8e0c-384602b970c4",
   "metadata": {},
   "outputs": [],
   "source": []
  },
  {
   "cell_type": "code",
   "execution_count": null,
   "id": "ddbf03a6-ed6e-45b4-acae-1d9506524292",
   "metadata": {},
   "outputs": [],
   "source": []
  }
 ],
 "metadata": {
  "kernelspec": {
   "display_name": "Python 3 (ipykernel)",
   "language": "python",
   "name": "python3"
  },
  "language_info": {
   "codemirror_mode": {
    "name": "ipython",
    "version": 3
   },
   "file_extension": ".py",
   "mimetype": "text/x-python",
   "name": "python",
   "nbconvert_exporter": "python",
   "pygments_lexer": "ipython3",
   "version": "3.12.7"
  }
 },
 "nbformat": 4,
 "nbformat_minor": 5
}
