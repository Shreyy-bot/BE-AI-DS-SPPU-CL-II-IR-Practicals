{
 "cells": [
  {
   "cell_type": "markdown",
   "id": "faf589ad-92ec-41d3-8dc1-16dfa389d346",
   "metadata": {},
   "source": [
    "***Write a program for pre-processing of a text document such as:-***\n",
    "\n",
    "***1) stop word removal***\n",
    "\n",
    "***2) Stemming***\n",
    "                                                                \n",
    "***3) Tokenization***\n",
    "\n",
    "***4) Convert string to lower case***\n",
    "                                                                \n",
    "***5) Convert string to upper case***\n",
    "                                                                \n",
    "***6) Number removal (replace it by \" \")***\n",
    "                                                                \n",
    "***7) Convert number to string (2 -> two)(inflect lib)***\n",
    "                                                                \n",
    "***8) Remve extra whitespaces***\n",
    "                                                                \n",
    "***9) Remove URLs***\n",
    "                                                                \n",
    "***10) Remove special characters***"
   ]
  },
  {
   "cell_type": "code",
   "execution_count": 5,
   "id": "bad9cfb3-6803-42ef-8bcc-3ef35935ccfb",
   "metadata": {},
   "outputs": [
    {
     "name": "stdout",
     "output_type": "stream",
     "text": [
      "Requirement already satisfied: nltk in c:\\users\\hp\\anaconda3\\lib\\site-packages (3.9.1)\n",
      "Requirement already satisfied: inflect in c:\\users\\hp\\anaconda3\\lib\\site-packages (7.4.0)\n",
      "Requirement already satisfied: click in c:\\users\\hp\\anaconda3\\lib\\site-packages (from nltk) (8.1.7)\n",
      "Requirement already satisfied: joblib in c:\\users\\hp\\anaconda3\\lib\\site-packages (from nltk) (1.4.2)\n",
      "Requirement already satisfied: regex>=2021.8.3 in c:\\users\\hp\\anaconda3\\lib\\site-packages (from nltk) (2024.9.11)\n",
      "Requirement already satisfied: tqdm in c:\\users\\hp\\anaconda3\\lib\\site-packages (from nltk) (4.66.5)\n",
      "Requirement already satisfied: more-itertools>=8.5.0 in c:\\users\\hp\\anaconda3\\lib\\site-packages (from inflect) (10.3.0)\n",
      "Requirement already satisfied: typeguard>=4.0.1 in c:\\users\\hp\\anaconda3\\lib\\site-packages (from inflect) (4.4.0)\n",
      "Requirement already satisfied: typing-extensions>=4.10.0 in c:\\users\\hp\\anaconda3\\lib\\site-packages (from typeguard>=4.0.1->inflect) (4.11.0)\n",
      "Requirement already satisfied: colorama in c:\\users\\hp\\anaconda3\\lib\\site-packages (from click->nltk) (0.4.6)\n",
      "Note: you may need to restart the kernel to use updated packages.\n"
     ]
    }
   ],
   "source": [
    "pip install nltk inflect"
   ]
  },
  {
   "cell_type": "code",
   "execution_count": 6,
   "id": "ab30fd84-c254-414e-bf68-fb82cab741bd",
   "metadata": {},
   "outputs": [],
   "source": [
    "import nltk\n",
    "import re\n",
    "import inflect"
   ]
  },
  {
   "cell_type": "code",
   "execution_count": 7,
   "id": "5e94e8ec-67b0-4f85-a785-44fd7df5fb24",
   "metadata": {},
   "outputs": [],
   "source": [
    "import string\n",
    "from nltk.corpus import stopwords\n",
    "from nltk.stem import SnowballStemmer"
   ]
  },
  {
   "cell_type": "code",
   "execution_count": 8,
   "id": "707274a5-ac22-438d-a15f-da9b5134b6df",
   "metadata": {},
   "outputs": [],
   "source": [
    "p = inflect.engine()"
   ]
  },
  {
   "cell_type": "code",
   "execution_count": 9,
   "id": "a075c5b6-b85a-426c-b60a-f2c8d4889631",
   "metadata": {},
   "outputs": [],
   "source": [
    "snow = SnowballStemmer(language='english')"
   ]
  },
  {
   "cell_type": "code",
   "execution_count": 10,
   "id": "aabb0a50-2a0d-4ed4-a4ff-9dd0aced9b98",
   "metadata": {},
   "outputs": [],
   "source": [
    "stopwords = nltk.corpus.stopwords.words(\"english\")"
   ]
  },
  {
   "cell_type": "code",
   "execution_count": 11,
   "id": "fbd18d18-8f92-43c7-a2a5-7aaf0f3df40b",
   "metadata": {},
   "outputs": [],
   "source": [
    "punctuat = string.punctuation"
   ]
  },
  {
   "cell_type": "code",
   "execution_count": 12,
   "id": "dd559b7d-79c2-4806-a728-769e2360a86b",
   "metadata": {},
   "outputs": [],
   "source": [
    "#lowwer case\n",
    "def low(text):\n",
    "    return text.lower()"
   ]
  },
  {
   "cell_type": "code",
   "execution_count": 13,
   "id": "7067c1ad-b5e1-4b98-9967-2a7d47e1d5a3",
   "metadata": {},
   "outputs": [],
   "source": [
    "#upper case\n",
    "def up(text):\n",
    "    return text.upper()"
   ]
  },
  {
   "cell_type": "code",
   "execution_count": 14,
   "id": "208e2516-080d-4801-9a7b-2057be8a148a",
   "metadata": {},
   "outputs": [],
   "source": [
    "#Number removal\n",
    "def num_remove(text):\n",
    "    return re.sub(r'\\d+', ' ', text)"
   ]
  },
  {
   "cell_type": "code",
   "execution_count": 15,
   "id": "43c0923d-5402-4694-879d-0b39d6350459",
   "metadata": {},
   "outputs": [],
   "source": [
    "#Remove extra space\n",
    "def white_space(text):\n",
    "    return re.sub(r'\\s+', ' ', text).strip()"
   ]
  },
  {
   "cell_type": "code",
   "execution_count": 16,
   "id": "883781d0-5db5-4e90-83c9-74af91be87f9",
   "metadata": {},
   "outputs": [],
   "source": [
    "#URLs removal from string\n",
    "def urls_remove(text):\n",
    "    urls = re.sub(r'http\\S+|www\\S+|https\\S+', \" \", text)\n",
    "    return urls"
   ]
  },
  {
   "cell_type": "code",
   "execution_count": 17,
   "id": "218d648c-85ff-47ec-94ae-76c44fe85893",
   "metadata": {},
   "outputs": [],
   "source": [
    "#Special character from string\n",
    "def sp_char(text):\n",
    "    special = \"\".join([word for word in text if word not in punctuat])\n",
    "    return special"
   ]
  },
  {
   "cell_type": "code",
   "execution_count": 18,
   "id": "28ad9a4a-0cb4-433b-84c6-3991756c4d68",
   "metadata": {},
   "outputs": [],
   "source": [
    "#Tokenization\n",
    "def tokenization(text):\n",
    "    tokens = nltk.tokenize.word_tokenize(text.lower())\n",
    "    return tokens"
   ]
  },
  {
   "cell_type": "code",
   "execution_count": 19,
   "id": "286c81f4-2dd3-4dcb-a555-52800d019fe3",
   "metadata": {},
   "outputs": [],
   "source": [
    "#Stopward removal from string\n",
    "def stpwrd(tokens):\n",
    "    stp=[]\n",
    "    for words in tokens:\n",
    "        word = words.lower()\n",
    "        if(word not in stopwords):\n",
    "            stp.append(word)\n",
    "   # stp.append([word.lower() for word in tokens if word not in stop_word])\n",
    "    return stp"
   ]
  },
  {
   "cell_type": "code",
   "execution_count": 20,
   "id": "38e91126-8c41-436b-be67-1cf02833aa16",
   "metadata": {},
   "outputs": [],
   "source": [
    "#Stemming\n",
    "def stem(stp):\n",
    "    stemm_word = []\n",
    "    for word in stp:\n",
    "        x = snow.stem(word)\n",
    "        stemm_word.append(x)\n",
    "    return stemm_word"
   ]
  },
  {
   "cell_type": "code",
   "execution_count": 21,
   "id": "f3da3ce2-06d8-4f68-8bf9-28a433ae07b4",
   "metadata": {},
   "outputs": [],
   "source": [
    "#Convert numeric tokens to their word form.\n",
    "def num_convert(text):\n",
    "    words = text.split()\n",
    "    converted_words = [p.number_to_words(word, andword='') if word.replace('.', '', 1).isdigit() else word for word in words]\n",
    "    processed_text = ' '.join(converted_words)\n",
    "    return processed_text"
   ]
  },
  {
   "cell_type": "code",
   "execution_count": 22,
   "id": "1d22e66e-a079-43e6-ac8a-50baf2b2a4bc",
   "metadata": {},
   "outputs": [],
   "source": [
    "def num_word(tokens):\n",
    "    return [self.p.number_to_words(word) if word.isdigit() else word for word in tokens]"
   ]
  },
  {
   "cell_type": "code",
   "execution_count": 23,
   "id": "6435878f-a471-4d9f-bc32-fd6812354152",
   "metadata": {},
   "outputs": [],
   "source": [
    "#pre-processing the text\n",
    "def preprocess_text(text):\n",
    "    text = low(text)\n",
    "    text = urls_remove(text)\n",
    "    text = sp_char(text)\n",
    "    text = num_remove(text)\n",
    "    text = white_space(text)\n",
    "        \n",
    "    tokens = tokenization(text)\n",
    "    tokens = stpwrd(tokens)\n",
    "    tokens = stem(tokens)\n",
    "    tokens = num_word(tokens)\n",
    "        \n",
    "    # Join tokens back to a single string\n",
    "    processed_text = ' '.join(tokens)\n",
    "    return processed_text"
   ]
  },
  {
   "cell_type": "code",
   "execution_count": null,
   "id": "afe4fd8c-c7dc-40ac-95ad-da092c2f929f",
   "metadata": {},
   "outputs": [],
   "source": []
  },
  {
   "cell_type": "code",
   "execution_count": 24,
   "id": "4dd8b4d9-b42a-4a26-9bab-e647ba5f4944",
   "metadata": {},
   "outputs": [
    {
     "name": "stdout",
     "output_type": "stream",
     "text": [
      "**************************************************************************************\n",
      "\n"
     ]
    },
    {
     "name": "stdin",
     "output_type": "stream",
     "text": [
      "Enter the text:  Hello, Myself Shreyas , studying in VPKBIET Baramati. Currently i am in 4  year of BE .My GitHub link is https://github.com/ .My SGPA is 7.5\n"
     ]
    },
    {
     "name": "stdout",
     "output_type": "stream",
     "text": [
      "\n",
      "**************************************************************************************\n",
      "\n",
      "******Operation Menu******\n",
      "\n",
      "1) Convert string to lower case\n",
      "2) Convert string to upper case \n",
      "3)  Number removal \n",
      "4) Remve extra whitespaces \n",
      "5) Remove URLs\n",
      "6) Remove special characters\n",
      "7) Convert number to string (2 -> two)(inflect lib)\n",
      "8) Total Pre-Processing\n"
     ]
    },
    {
     "name": "stdin",
     "output_type": "stream",
     "text": [
      "Enter the choice:  7\n"
     ]
    },
    {
     "name": "stdout",
     "output_type": "stream",
     "text": [
      "Hello, Myself Shreyas , studying in VPKBIET Baramati. Currently i am in four year of BE .My GitHub link is https://github.com/ .My SGPA is seven point five\n"
     ]
    }
   ],
   "source": [
    "#Menu Driven\n",
    "print(\"**************************************************************************************\\n\")\n",
    "text = input(\"Enter the text: \")\n",
    "print(\"\\n**************************************************************************************\\n\")\n",
    "print(\"******Operation Menu******\\n\")\n",
    "print(\"1) Convert string to lower case\\n2) Convert string to upper case \\n3)  Number removal \\n4) Remve extra whitespaces \\n5) Remove URLs\\n6) Remove special characters\\n7) Convert number to string (2 -> two)(inflect lib)\\n8) Total Pre-Processing\")\n",
    "\n",
    "choice = int(input(\"Enter the choice: \"))\n",
    "if choice == 1:\n",
    "    print(low(text))\n",
    "elif choice == 2:\n",
    "    print(up(text))\n",
    "elif choice == 3:\n",
    "    print(num_remove(text))\n",
    "elif choice == 4:\n",
    "    print(white_space(text))\n",
    "elif choice == 5:\n",
    "    print(urls_remove(text))\n",
    "elif choice == 6:\n",
    "    print(sp_char(text))\n",
    "elif choice == 7:\n",
    "    print(num_convert(text))\n",
    "else:\n",
    "    print(preprocess_text(text))"
   ]
  },
  {
   "cell_type": "code",
   "execution_count": null,
   "id": "0e0518c0-e262-4d49-8216-0f8af98420bc",
   "metadata": {},
   "outputs": [],
   "source": []
  },
  {
   "cell_type": "code",
   "execution_count": null,
   "id": "046f17f9-6508-4493-aa0c-0a22e3c97025",
   "metadata": {},
   "outputs": [],
   "source": []
  }
 ],
 "metadata": {
  "kernelspec": {
   "display_name": "Python 3 (ipykernel)",
   "language": "python",
   "name": "python3"
  },
  "language_info": {
   "codemirror_mode": {
    "name": "ipython",
    "version": 3
   },
   "file_extension": ".py",
   "mimetype": "text/x-python",
   "name": "python",
   "nbconvert_exporter": "python",
   "pygments_lexer": "ipython3",
   "version": "3.12.7"
  }
 },
 "nbformat": 4,
 "nbformat_minor": 5
}
